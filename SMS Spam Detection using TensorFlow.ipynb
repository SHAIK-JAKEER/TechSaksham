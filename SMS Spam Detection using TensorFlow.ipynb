{
 "cells": [
  {
   "cell_type": "code",
   "execution_count": null,
   "metadata": {
    "executionInfo": {
     "elapsed": 5338,
     "status": "ok",
     "timestamp": 1711537941011,
     "user": {
      "displayName": "R Janardhan Reddy",
      "userId": "15429961919782077735"
     },
     "user_tz": -330
    },
    "id": "N4NN-fGLjUEF"
   },
   "outputs": [],
   "source": [
    "import numpy as np\n",
    "import pandas as pd\n",
    "import matplotlib.pyplot as plt\n",
    "import seaborn as sns\n",
    "import tensorflow as tf\n",
    "from tensorflow import keras\n",
    "from tensorflow.keras import layers\n"
   ]
  },
  {
   "cell_type": "code",
   "execution_count": null,
   "metadata": {
    "colab": {
     "base_uri": "https://localhost:8080/",
     "height": 206
    },
    "executionInfo": {
     "elapsed": 839,
     "status": "ok",
     "timestamp": 1711537944955,
     "user": {
      "displayName": "R Janardhan Reddy",
      "userId": "15429961919782077735"
     },
     "user_tz": -330
    },
    "id": "Lf7gFYYXjXa6",
    "outputId": "cd716f17-e6b6-4154-9759-cef393942847"
   },
   "outputs": [],
   "source": [
    "# Reading the data\n",
    "df = pd.read_csv(\"spam.csv\",encoding='latin-1')\n",
    "df.head()"
   ]
  },
  {
   "cell_type": "code",
   "execution_count": null,
   "metadata": {
    "colab": {
     "base_uri": "https://localhost:8080/",
     "height": 206
    },
    "executionInfo": {
     "elapsed": 657,
     "status": "ok",
     "timestamp": 1711537948430,
     "user": {
      "displayName": "R Janardhan Reddy",
      "userId": "15429961919782077735"
     },
     "user_tz": -330
    },
    "id": "xAi1Upezjx50",
    "outputId": "c58fbe55-e3db-4919-c0f5-a85e1c052f9d"
   },
   "outputs": [],
   "source": [
    "df = df.drop(['Unnamed: 2','Unnamed: 3','Unnamed: 4'],axis=1)\n",
    "df = df.rename(columns={'v1':'label','v2':'Text'})\n",
    "df['label_enc'] = df['label'].map({'ham':0,'spam':1})\n",
    "df.head()\n"
   ]
  },
  {
   "cell_type": "code",
   "execution_count": null,
   "metadata": {
    "colab": {
     "base_uri": "https://localhost:8080/",
     "height": 450
    },
    "executionInfo": {
     "elapsed": 691,
     "status": "ok",
     "timestamp": 1711537951373,
     "user": {
      "displayName": "R Janardhan Reddy",
      "userId": "15429961919782077735"
     },
     "user_tz": -330
    },
    "id": "BvK343Ddj2CT",
    "outputId": "450115df-7c2a-44d4-9ca2-8a2def697e8b"
   },
   "outputs": [],
   "source": [
    "sns.countplot(x=df['label'])\n",
    "plt.show()\n"
   ]
  },
  {
   "cell_type": "code",
   "execution_count": null,
   "metadata": {
    "colab": {
     "base_uri": "https://localhost:8080/"
    },
    "executionInfo": {
     "elapsed": 8,
     "status": "ok",
     "timestamp": 1711537953440,
     "user": {
      "displayName": "R Janardhan Reddy",
      "userId": "15429961919782077735"
     },
     "user_tz": -330
    },
    "id": "h18vtEaEj_ES",
    "outputId": "e07eaa64-a4a6-4efd-8cc0-b151df84b9c2"
   },
   "outputs": [],
   "source": [
    "# Find average number of tokens in all sentences\n",
    "avg_words_len=round(sum([len(i.split()) for i in df['Text']])/len(df['Text']))\n",
    "print(avg_words_len)\n"
   ]
  },
  {
   "cell_type": "code",
   "execution_count": null,
   "metadata": {
    "colab": {
     "base_uri": "https://localhost:8080/"
    },
    "executionInfo": {
     "elapsed": 6,
     "status": "ok",
     "timestamp": 1711537956271,
     "user": {
      "displayName": "R Janardhan Reddy",
      "userId": "15429961919782077735"
     },
     "user_tz": -330
    },
    "id": "w5WGm6sWkFgU",
    "outputId": "f69b7a39-5570-45be-82f1-ce194dd20482"
   },
   "outputs": [],
   "source": [
    "# Finding Total no of unique words in corpus\n",
    "s = set()\n",
    "for sent in df['Text']:\n",
    "  for word in sent.split():\n",
    "\t  s.add(word)\n",
    "total_words_length=len(s)\n",
    "print(total_words_length)\n"
   ]
  },
  {
   "cell_type": "code",
   "execution_count": null,
   "metadata": {
    "colab": {
     "base_uri": "https://localhost:8080/"
    },
    "executionInfo": {
     "elapsed": 4,
     "status": "ok",
     "timestamp": 1711537958539,
     "user": {
      "displayName": "R Janardhan Reddy",
      "userId": "15429961919782077735"
     },
     "user_tz": -330
    },
    "id": "Frr3MC6mkKTw",
    "outputId": "c6b9daec-c01d-4f1e-8024-f043e33fa1ca"
   },
   "outputs": [],
   "source": [
    "# Splitting data for Training and testing\n",
    "from sklearn.model_selection import train_test_split\n",
    "\n",
    "X, y = np.asanyarray(df['Text']), np.asanyarray(df['label_enc'])\n",
    "new_df = pd.DataFrame({'Text': X, 'label': y})\n",
    "X_train, X_test, y_train, y_test = train_test_split(\n",
    "\tnew_df['Text'], new_df['label'], test_size=0.2, random_state=42)\n",
    "X_train.shape, y_train.shape, X_test.shape, y_test.shape\n"
   ]
  },
  {
   "cell_type": "code",
   "execution_count": null,
   "metadata": {
    "executionInfo": {
     "elapsed": 2,
     "status": "ok",
     "timestamp": 1711537960504,
     "user": {
      "displayName": "R Janardhan Reddy",
      "userId": "15429961919782077735"
     },
     "user_tz": -330
    },
    "id": "84-MgPkakWWX"
   },
   "outputs": [],
   "source": [
    "#Building the models"
   ]
  },
  {
   "cell_type": "code",
   "execution_count": null,
   "metadata": {
    "colab": {
     "base_uri": "https://localhost:8080/",
     "height": 80
    },
    "executionInfo": {
     "elapsed": 16,
     "status": "ok",
     "timestamp": 1711537962982,
     "user": {
      "displayName": "R Janardhan Reddy",
      "userId": "15429961919782077735"
     },
     "user_tz": -330
    },
    "id": "LAjcjNbkkdZH",
    "outputId": "76472ebe-828a-490c-b450-b2db66ae1d7f"
   },
   "outputs": [],
   "source": [
    "from sklearn.feature_extraction.text import TfidfVectorizer\n",
    "from sklearn.naive_bayes import MultinomialNB\n",
    "from sklearn.metrics import classification_report,accuracy_score\n",
    "\n",
    "tfidf_vec = TfidfVectorizer().fit(X_train)\n",
    "X_train_vec,X_test_vec = tfidf_vec.transform(X_train),tfidf_vec.transform(X_test)\n",
    "\n",
    "baseline_model = MultinomialNB()\n",
    "baseline_model.fit(X_train_vec,y_train)\n"
   ]
  },
  {
   "cell_type": "code",
   "execution_count": null,
   "metadata": {
    "colab": {
     "base_uri": "https://localhost:8080/"
    },
    "executionInfo": {
     "elapsed": 4,
     "status": "ok",
     "timestamp": 1711537963667,
     "user": {
      "displayName": "R Janardhan Reddy",
      "userId": "15429961919782077735"
     },
     "user_tz": -330
    },
    "id": "Uipm5-NLkleg",
    "outputId": "35646df7-ef4c-4c18-81d2-79a752109dac"
   },
   "outputs": [],
   "source": [
    "nb_accuracy=accuracy_score(y_test,baseline_model.predict(X_test_vec))\n",
    "\n",
    "print(nb_accuracy)\n",
    "\n",
    "print(classification_report(y_test, baseline_model.predict(X_test_vec)))"
   ]
  },
  {
   "cell_type": "code",
   "execution_count": null,
   "metadata": {
    "colab": {
     "base_uri": "https://localhost:8080/"
    },
    "executionInfo": {
     "elapsed": 7947,
     "status": "ok",
     "timestamp": 1711537973712,
     "user": {
      "displayName": "R Janardhan Reddy",
      "userId": "15429961919782077735"
     },
     "user_tz": -330
    },
    "id": "TdaXDXvVmZrf",
    "outputId": "5b46dae2-2987-451a-a68e-90240791bbe0"
   },
   "outputs": [],
   "source": [
    "\n"
   ]
  },
  {
   "cell_type": "code",
   "execution_count": null,
   "metadata": {
    "executionInfo": {
     "elapsed": 706,
     "status": "ok",
     "timestamp": 1711538085010,
     "user": {
      "displayName": "R Janardhan Reddy",
      "userId": "15429961919782077735"
     },
     "user_tz": -330
    },
    "id": "tb_pcfwblGVL"
   },
   "outputs": [],
   "source": [
    "#Model 1: Creating custom Text vectorization and embedding layers:"
   ]
  },
  {
   "cell_type": "code",
   "execution_count": null,
   "metadata": {
    "executionInfo": {
     "elapsed": 2199,
     "status": "ok",
     "timestamp": 1711538101141,
     "user": {
      "displayName": "R Janardhan Reddy",
      "userId": "15429961919782077735"
     },
     "user_tz": -330
    },
    "id": "PvitEriylgV0"
   },
   "outputs": [],
   "source": [
    "from tensorflow.keras.layers import TextVectorization\n",
    "\n",
    "MAXTOKENS=total_words_length\n",
    "OUTPUTLEN=avg_words_len\n",
    "\n",
    "text_vec = TextVectorization(\n",
    "\tmax_tokens=MAXTOKENS,\n",
    "\tstandardize='lower_and_strip_punctuation',\n",
    "\toutput_mode='int',\n",
    "\toutput_sequence_length=OUTPUTLEN\n",
    ")\n",
    "text_vec.adapt(X_train)\n"
   ]
  },
  {
   "cell_type": "code",
   "execution_count": null,
   "metadata": {
    "executionInfo": {
     "elapsed": 779,
     "status": "ok",
     "timestamp": 1711538121745,
     "user": {
      "displayName": "R Janardhan Reddy",
      "userId": "15429961919782077735"
     },
     "user_tz": -330
    },
    "id": "4FO0XVr9nsv1"
   },
   "outputs": [],
   "source": [
    "embedding_layer = layers.Embedding(\n",
    "\tinput_dim=MAXTOKENS,\n",
    "\toutput_dim=128,\n",
    "\tembeddings_initializer='uniform',\n",
    "\tinput_length=OUTPUTLEN\n",
    ")\n"
   ]
  },
  {
   "cell_type": "code",
   "execution_count": null,
   "metadata": {
    "executionInfo": {
     "elapsed": 758,
     "status": "ok",
     "timestamp": 1711538180026,
     "user": {
      "displayName": "R Janardhan Reddy",
      "userId": "15429961919782077735"
     },
     "user_tz": -330
    },
    "id": "h3o1tVUinyNU"
   },
   "outputs": [],
   "source": [
    "input_layer = layers.Input(shape=(1,), dtype=tf.string)\n",
    "vec_layer = text_vec(input_layer)\n",
    "embedding_layer_model = embedding_layer(vec_layer)\n",
    "x = layers.GlobalAveragePooling1D()(embedding_layer_model)\n",
    "x = layers.Flatten()(x)\n",
    "x = layers.Dense(32, activation='relu')(x)\n",
    "output_layer = layers.Dense(1, activation='sigmoid')(x)\n",
    "model_1 = keras.Model(input_layer, output_layer)\n",
    "\n",
    "model_1.compile(optimizer='adam', loss=keras.losses.BinaryCrossentropy(\n",
    "\tlabel_smoothing=0.5), metrics=['accuracy'])\n"
   ]
  },
  {
   "cell_type": "code",
   "execution_count": null,
   "metadata": {
    "colab": {
     "base_uri": "https://localhost:8080/"
    },
    "executionInfo": {
     "elapsed": 821,
     "status": "ok",
     "timestamp": 1711538217844,
     "user": {
      "displayName": "R Janardhan Reddy",
      "userId": "15429961919782077735"
     },
     "user_tz": -330
    },
    "id": "In6TX8bUoAYu",
    "outputId": "2b01703f-5a58-43fc-8ed4-90649183ed97"
   },
   "outputs": [],
   "source": [
    "model_1.summary()"
   ]
  },
  {
   "cell_type": "code",
   "execution_count": null,
   "metadata": {
    "colab": {
     "base_uri": "https://localhost:8080/"
    },
    "executionInfo": {
     "elapsed": 27611,
     "status": "ok",
     "timestamp": 1711538307548,
     "user": {
      "displayName": "R Janardhan Reddy",
      "userId": "15429961919782077735"
     },
     "user_tz": -330
    },
    "id": "vAnKMMX9oJzE",
    "outputId": "490acfa6-6c94-41e0-91f2-734eef46b26b"
   },
   "outputs": [],
   "source": [
    "history_1 = model_1.fit(X_train, y_train, epochs=5,validation_data=(X_test,y_test), validation_steps=int(0.2*len(X_test)))"
   ]
  },
  {
   "cell_type": "code",
   "execution_count": null,
   "metadata": {
    "colab": {
     "base_uri": "https://localhost:8080/",
     "height": 447
    },
    "executionInfo": {
     "elapsed": 835,
     "status": "ok",
     "timestamp": 1711538332099,
     "user": {
      "displayName": "R Janardhan Reddy",
      "userId": "15429961919782077735"
     },
     "user_tz": -330
    },
    "id": "4KhSDpaNoZC6",
    "outputId": "c0cb05f2-c99a-41c8-828f-8bd53ba9803c"
   },
   "outputs": [],
   "source": [
    "pd.DataFrame(history_1.history).plot()"
   ]
  },
  {
   "cell_type": "code",
   "execution_count": null,
   "metadata": {
    "executionInfo": {
     "elapsed": 631,
     "status": "ok",
     "timestamp": 1711538352268,
     "user": {
      "displayName": "R Janardhan Reddy",
      "userId": "15429961919782077735"
     },
     "user_tz": -330
    },
    "id": "GHAP5Xxlolpw"
   },
   "outputs": [],
   "source": [
    "from sklearn.metrics import precision_score, recall_score, f1_score\n",
    "\n",
    "def compile_model(model):\n",
    "\t'''\n",
    "\tsimply compile the model with adam optimzer\n",
    "\t'''\n",
    "\tmodel.compile(optimizer=keras.optimizers.Adam(),\n",
    "\t\t\t\tloss=keras.losses.BinaryCrossentropy(),\n",
    "\t\t\t\tmetrics=['accuracy'])\n",
    "\n",
    "def fit_model(model, epochs, X_train=X_train, y_train=y_train,\n",
    "\t\t\tX_test=X_test, y_test=y_test):\n",
    "\t'''\n",
    "\tfit the model with given epochs, train\n",
    "\tand test data\n",
    "\t'''\n",
    "\thistory = model.fit(X_train,\n",
    "\t\t\t\t\t\ty_train,\n",
    "\t\t\t\t\t\tepochs=epochs,\n",
    "\t\t\t\t\t\tvalidation_data=(X_test, y_test),\n",
    "\t\t\t\t\t\tvalidation_steps=int(0.2*len(X_test)))\n",
    "\treturn history\n",
    "\n",
    "def evaluate_model(model, X, y):\n",
    "\t'''\n",
    "\tevaluate the model and returns accuracy,\n",
    "\tprecision, recall and f1-score\n",
    "\t'''\n",
    "\ty_preds = np.round(model.predict(X))\n",
    "\taccuracy = accuracy_score(y, y_preds)\n",
    "\tprecision = precision_score(y, y_preds)\n",
    "\trecall = recall_score(y, y_preds)\n",
    "\tf1 = f1_score(y, y_preds)\n",
    "\n",
    "\tmodel_results_dict = {'accuracy': accuracy,\n",
    "\t\t\t\t\t\t'precision': precision,\n",
    "\t\t\t\t\t\t'recall': recall,\n",
    "\t\t\t\t\t\t'f1-score': f1}\n",
    "\n",
    "\treturn model_results_dict\n"
   ]
  },
  {
   "cell_type": "code",
   "execution_count": null,
   "metadata": {
    "executionInfo": {
     "elapsed": 656,
     "status": "ok",
     "timestamp": 1711538400658,
     "user": {
      "displayName": "R Janardhan Reddy",
      "userId": "15429961919782077735"
     },
     "user_tz": -330
    },
    "id": "8ah-3QtwoqiJ"
   },
   "outputs": [],
   "source": [
    "#Model -2 Bidirectional LSTM"
   ]
  },
  {
   "cell_type": "code",
   "execution_count": null,
   "metadata": {
    "colab": {
     "base_uri": "https://localhost:8080/"
    },
    "executionInfo": {
     "elapsed": 94465,
     "status": "ok",
     "timestamp": 1711538505178,
     "user": {
      "displayName": "R Janardhan Reddy",
      "userId": "15429961919782077735"
     },
     "user_tz": -330
    },
    "id": "P6Ijx2Zfo2cu",
    "outputId": "2828027a-8e3c-4c87-dd98-7837343a181c"
   },
   "outputs": [],
   "source": [
    "input_layer = layers.Input(shape=(1,), dtype=tf.string)\n",
    "vec_layer = text_vec(input_layer)\n",
    "embedding_layer_model = embedding_layer(vec_layer)\n",
    "bi_lstm = layers.Bidirectional(layers.LSTM(\n",
    "\t64, activation='tanh', return_sequences=True))(embedding_layer_model)\n",
    "lstm = layers.Bidirectional(layers.LSTM(64))(bi_lstm)\n",
    "flatten = layers.Flatten()(lstm)\n",
    "dropout = layers.Dropout(.1)(flatten)\n",
    "x = layers.Dense(32, activation='relu')(dropout)\n",
    "output_layer = layers.Dense(1, activation='sigmoid')(x)\n",
    "model_2 = keras.Model(input_layer, output_layer)\n",
    "\n",
    "compile_model(model_2) # compile the model\n",
    "history_2 = fit_model(model_2, epochs=5) # fit the model\n"
   ]
  },
  {
   "cell_type": "code",
   "execution_count": null,
   "metadata": {
    "colab": {
     "base_uri": "https://localhost:8080/"
    },
    "executionInfo": {
     "elapsed": 95052,
     "status": "ok",
     "timestamp": 1711538600193,
     "user": {
      "displayName": "R Janardhan Reddy",
      "userId": "15429961919782077735"
     },
     "user_tz": -330
    },
    "id": "_rV_8mpjo4-4",
    "outputId": "75a2813c-2b35-4cb6-f153-98e4ef930bdb"
   },
   "outputs": [],
   "source": [
    "compile_model(model_2) # compile the model\n",
    "history_2 = fit_model(model_2, epochs=5) # fit the model"
   ]
  },
  {
   "cell_type": "code",
   "execution_count": null,
   "metadata": {
    "executionInfo": {
     "elapsed": 796,
     "status": "ok",
     "timestamp": 1711538612529,
     "user": {
      "displayName": "R Janardhan Reddy",
      "userId": "15429961919782077735"
     },
     "user_tz": -330
    },
    "id": "reX5N7typNRW"
   },
   "outputs": [],
   "source": [
    "#Model -3 Transfer Learning with USE Encoder"
   ]
  },
  {
   "cell_type": "code",
   "execution_count": null,
   "metadata": {
    "colab": {
     "base_uri": "https://localhost:8080/"
    },
    "executionInfo": {
     "elapsed": 87569,
     "status": "ok",
     "timestamp": 1711538705267,
     "user": {
      "displayName": "R Janardhan Reddy",
      "userId": "15429961919782077735"
     },
     "user_tz": -330
    },
    "id": "QK-vV-bipaFZ",
    "outputId": "529d7f56-cd9b-4def-a6c5-24227f581f34"
   },
   "outputs": [],
   "source": [
    "import tensorflow_hub as hub\n",
    "\n",
    "# model with Sequential api\n",
    "model_3 = keras.Sequential()\n",
    "\n",
    "# universal-sentence-encoder layer\n",
    "# directly from tfhub\n",
    "use_layer = hub.KerasLayer(\"https://tfhub.dev/google/universal-sentence-encoder/4\",\n",
    "\t\t\t\t\t\ttrainable=False,\n",
    "\t\t\t\t\t\tinput_shape=[],\n",
    "\t\t\t\t\t\tdtype=tf.string,\n",
    "\t\t\t\t\t\tname='USE')\n",
    "model_3.add(use_layer)\n",
    "model_3.add(layers.Dropout(0.2))\n",
    "model_3.add(layers.Dense(64, activation=keras.activations.relu))\n",
    "model_3.add(layers.Dense(1, activation=keras.activations.sigmoid))\n",
    "\n",
    "compile_model(model_3)\n",
    "\n",
    "history_3 = fit_model(model_3, epochs=5)\n"
   ]
  },
  {
   "cell_type": "code",
   "execution_count": null,
   "metadata": {
    "colab": {
     "base_uri": "https://localhost:8080/"
    },
    "executionInfo": {
     "elapsed": 21095,
     "status": "ok",
     "timestamp": 1711538731969,
     "user": {
      "displayName": "R Janardhan Reddy",
      "userId": "15429961919782077735"
     },
     "user_tz": -330
    },
    "id": "F7LCLFWJprQ5",
    "outputId": "2f65fb71-c6c4-4ce8-b2ba-a8ed3e71de93"
   },
   "outputs": [],
   "source": [
    "compile_model(model_3)\n",
    "history_3 = fit_model(model_3, epochs=5)"
   ]
  },
  {
   "cell_type": "code",
   "execution_count": null,
   "metadata": {
    "colab": {
     "base_uri": "https://localhost:8080/",
     "height": 227
    },
    "executionInfo": {
     "elapsed": 7136,
     "status": "ok",
     "timestamp": 1711538744116,
     "user": {
      "displayName": "R Janardhan Reddy",
      "userId": "15429961919782077735"
     },
     "user_tz": -330
    },
    "id": "-xqH9ZLLqCN1",
    "outputId": "b4ee7856-bf1b-4ccf-fa50-4526ceb1fdc8"
   },
   "outputs": [],
   "source": [
    "baseline_model_results = evaluate_model(baseline_model, X_test_vec, y_test)\n",
    "model_1_results = evaluate_model(model_1, X_test, y_test)\n",
    "model_2_results = evaluate_model(model_2, X_test, y_test)\n",
    "model_3_results = evaluate_model(model_3, X_test, y_test)\n",
    "\n",
    "total_results = pd.DataFrame({'MultinomialNB Model':baseline_model_results,\n",
    "\t\t\t\t\t\t\t'Custom-Vec-Embedding Model':model_1_results,\n",
    "\t\t\t\t\t\t\t'Bidirectional-LSTM Model':model_2_results,\n",
    "\t\t\t\t\t\t\t'USE-Transfer learning Model':model_3_results}).transpose()\n",
    "\n",
    "total_results\n"
   ]
  },
  {
   "cell_type": "code",
   "execution_count": null,
   "metadata": {
    "cellView": "form",
    "colab": {
     "base_uri": "https://localhost:8080/",
     "height": 391
    },
    "executionInfo": {
     "elapsed": 1560,
     "status": "ok",
     "timestamp": 1711545441736,
     "user": {
      "displayName": "R Janardhan Reddy",
      "userId": "15429961919782077735"
     },
     "user_tz": -330
    },
    "id": "8epJsrSxDtOc",
    "outputId": "9246a526-0ea7-420e-fca8-7885e45825ea"
   },
   "outputs": [],
   "source": [
    "# @title accuracy\n",
    "\n",
    "from matplotlib import pyplot as plt\n",
    "total_results['accuracy'].plot(kind='line', figsize=(8, 4), title='accuracy')\n",
    "plt.gca().spines[['top', 'right']].set_visible(False)"
   ]
  },
  {
   "cell_type": "code",
   "execution_count": null,
   "metadata": {
    "colab": {
     "base_uri": "https://localhost:8080/",
     "height": 447
    },
    "executionInfo": {
     "elapsed": 1535,
     "status": "ok",
     "timestamp": 1711539262945,
     "user": {
      "displayName": "R Janardhan Reddy",
      "userId": "15429961919782077735"
     },
     "user_tz": -330
    },
    "id": "V5U5P33BqIpx",
    "outputId": "12e336c7-81f9-44ad-8ce6-e43563ebff75"
   },
   "outputs": [],
   "source": [
    "pd.DataFrame(total_results).plot()"
   ]
  },
  {
   "cell_type": "code",
   "execution_count": null,
   "metadata": {
    "id": "mF5Ts0YQsIsh"
   },
   "outputs": [],
   "source": []
  },
  {
   "cell_type": "code",
   "execution_count": null,
   "metadata": {},
   "outputs": [],
   "source": []
  }
 ],
 "metadata": {
  "colab": {
   "authorship_tag": "ABX9TyPF8jAECterY2NnGbWH9+Zw",
   "provenance": []
  },
  "kernelspec": {
   "display_name": "Python 3 (ipykernel)",
   "language": "python",
   "name": "python3"
  },
  "language_info": {
   "name": "python"
  }
 },
 "nbformat": 4,
 "nbformat_minor": 4
}
